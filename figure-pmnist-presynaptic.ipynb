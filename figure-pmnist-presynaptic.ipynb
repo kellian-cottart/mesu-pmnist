{
 "cells": [
  {
   "cell_type": "code",
   "execution_count": 17,
   "metadata": {},
   "outputs": [],
   "source": [
    "#!/usr/bin/env python3\n",
    "# -*- coding: utf-8 -*-\n",
    "# SPDX-License-Identifier: CC-BY-4.0\n",
    "#\n",
    "# Code for \"Bayesian continual learning and forgetting in neural networks\"\n",
    "# Djohan Bonnet, Kellian Cottart, Tifenn Hirtzlin, Tarcisius Januel, Thomas Dalgaty, Elisa Vianello, Damien Querlioz\n",
    "# arXiv: 2504.13569\n",
    "# Portions of the code are adapted from the Pytorch project (BSD-3-Clause)\n",
    "#\n",
    "# Author: Kellian Cottart <kellian.cottart@gmail.com>\n",
    "# Date: 2025-07-03"
   ]
  },
  {
   "cell_type": "code",
   "execution_count": 18,
   "metadata": {},
   "outputs": [],
   "source": [
    "\n",
    "import matplotlib.pyplot as plt\n",
    "import jax\n",
    "import jax.numpy as jnp\n",
    "import os\n",
    "import seaborn as sns\n",
    "import re\n",
    "import json\n",
    "import pandas as pd\n",
    "AXESSIZE = 28\n",
    "FONTSIZE = 26\n",
    "TICKSIZE = 24   \n",
    "LEGENDSIZE = 26\n",
    "plt.rcParams['svg.fonttype'] = 'none'\n",
    "os.environ[\"XLA_PYTHON_CLIENT_MEM_FRACTION\"] = \"0.05\"\n",
    "FOLDER = \"output-figures\"\n",
    "os.makedirs(FOLDER, exist_ok=True)\n",
    "results_folder = \"RESULTS-PRESYNAPTIC\"\n",
    "df = pd.DataFrame()\n",
    "# iterate through all root folders in the results folder\n",
    "for folder in os.listdir(results_folder):\n",
    "    current_path = os.path.join(results_folder, folder)\n",
    "    # extract the name from the first config\n",
    "    config_path = os.path.join(current_path, \"config0/config.json\")\n",
    "    with open(config_path, \"r\") as f:\n",
    "        config = json.load(f)\n",
    "    # n_iterations is the number of config folders\n",
    "    n_iterations = len([f for f in os.listdir(current_path) if f.startswith(\"config\") and os.path.isdir(os.path.join(current_path, f))])\n",
    "    \n",
    "    # Add the row of parameters to the dataframe   \n",
    "    row = {\n",
    "        \"path\": current_path,\n",
    "        \"opt\": config[\"optimizer\"] + \" N=\" + str(config[\"optimizer_params\"][\"N\"]) if \"mesu\" in config[\"optimizer\"] else config[\"optimizer\"],\n",
    "        \"layers\": int(config[\"network_params\"][\"layers\"][:-1][1:][0]),\n",
    "        \"n_tasks\": config[\"n_tasks\"],\n",
    "        \"n_epochs\": config[\"epochs\"],\n",
    "        \"n_train_samples\": config[\"n_train_samples\"],\n",
    "        \"n_test_samples\": config[\"n_test_samples\"],\n",
    "        \"n_iterations\": n_iterations,\n",
    "    }\n",
    "    df = pd.concat([df, pd.DataFrame([row])], ignore_index=True)\n",
    "# One color for each path\n",
    "colors = sns.color_palette(\"viridis\", len(df[\"path\"].unique()))\n",
    "markers = [\"D\", \"o\", \"s\", \"h\", \"^\", \"x\", \"v\", \"p\", \"*\", \"X\", \"D\", \"o\", \"s\", \"h\", \"^\", \"x\", \"v\", \"p\", \"*\", \"X\"]"
   ]
  },
  {
   "cell_type": "markdown",
   "metadata": {},
   "source": []
  },
  {
   "cell_type": "code",
   "execution_count": 19,
   "metadata": {},
   "outputs": [],
   "source": [
    "data = []\n",
    "for idx, row in df.iterrows():\n",
    "    path = row[\"path\"]\n",
    "    n_tasks = row[\"n_tasks\"]\n",
    "    n_epochs = row[\"n_epochs\"]\n",
    "    n_iterations = row[\"n_iterations\"]\n",
    "    full_accuracies = []\n",
    "    for it in range(n_iterations):\n",
    "        current_it_path = os.path.join(path, f\"config{it}\")\n",
    "        accuracy_path = os.path.join(current_it_path, \"accuracy\")\n",
    "        uncertainty_path = os.path.join(current_it_path, \"uncertainty\")\n",
    "        accuracies = []\n",
    "        for task in range(n_tasks):\n",
    "            for epoch in range(n_epochs):\n",
    "                suffix = f\"task={task}-epoch={epoch}.npy\"\n",
    "                accuracies.append(jnp.load(os.path.join(accuracy_path, suffix)))\n",
    "        full_accuracies.append(jnp.array(accuracies)) \n",
    "    full_accuracies = jnp.array(full_accuracies)*100\n",
    "    accuracy_array = jnp.mean(full_accuracies, -1)[:, -1]\n",
    "    accuracy_mean = accuracy_array.mean()\n",
    "    accuracy_std = accuracy_array.std()\n",
    "    last_accuracies_full = full_accuracies[:, -1, :].mean(axis=0)\n",
    "    last_accuracies_std = full_accuracies[:, -1, :].std(axis=0)\n",
    "    data.append((accuracy_mean, accuracy_std, last_accuracies_full, last_accuracies_std))\n",
    "# Add new columns to df\n",
    "df[\"accuracies\"] = [d[0] for d in data]\n",
    "df[\"accuracies_std\"] = [d[1] for d in data]\n",
    "df[\"accuracies_full\"] = [d[2] for d in data]\n",
    "df[\"accuracies_full_std\"] = [d[3] for d in data]\n"
   ]
  },
  {
   "cell_type": "code",
   "execution_count": 20,
   "metadata": {},
   "outputs": [
    {
     "data": {
      "text/html": [
       "<div>\n",
       "<style scoped>\n",
       "    .dataframe tbody tr th:only-of-type {\n",
       "        vertical-align: middle;\n",
       "    }\n",
       "\n",
       "    .dataframe tbody tr th {\n",
       "        vertical-align: top;\n",
       "    }\n",
       "\n",
       "    .dataframe thead th {\n",
       "        text-align: right;\n",
       "    }\n",
       "</style>\n",
       "<table border=\"1\" class=\"dataframe\">\n",
       "  <thead>\n",
       "    <tr style=\"text-align: right;\">\n",
       "      <th></th>\n",
       "      <th>path</th>\n",
       "      <th>opt</th>\n",
       "      <th>layers</th>\n",
       "      <th>n_tasks</th>\n",
       "      <th>n_epochs</th>\n",
       "      <th>n_train_samples</th>\n",
       "      <th>n_test_samples</th>\n",
       "      <th>n_iterations</th>\n",
       "      <th>accuracies</th>\n",
       "      <th>accuracies_std</th>\n",
       "      <th>accuracies_full</th>\n",
       "      <th>accuracies_full_std</th>\n",
       "    </tr>\n",
       "  </thead>\n",
       "  <tbody>\n",
       "    <tr>\n",
       "      <th>0</th>\n",
       "      <td>RESULTS-PRESYNAPTIC/20250704-190454-permutedmn...</td>\n",
       "      <td>mesu N=5800000</td>\n",
       "      <td>200</td>\n",
       "      <td>10</td>\n",
       "      <td>10</td>\n",
       "      <td>10</td>\n",
       "      <td>10</td>\n",
       "      <td>3</td>\n",
       "      <td>92.45693</td>\n",
       "      <td>0.57739115</td>\n",
       "      <td>[95.76323, 91.93042, 88.29794, 89.51656, 91.48...</td>\n",
       "      <td>[0.17135017, 1.2763591, 3.149945, 0.53284943, ...</td>\n",
       "    </tr>\n",
       "  </tbody>\n",
       "</table>\n",
       "</div>"
      ],
      "text/plain": [
       "                                                path             opt  layers  \\\n",
       "0  RESULTS-PRESYNAPTIC/20250704-190454-permutedmn...  mesu N=5800000     200   \n",
       "\n",
       "   n_tasks  n_epochs  n_train_samples  n_test_samples  n_iterations  \\\n",
       "0       10        10               10              10             3   \n",
       "\n",
       "  accuracies accuracies_std  \\\n",
       "0   92.45693     0.57739115   \n",
       "\n",
       "                                     accuracies_full  \\\n",
       "0  [95.76323, 91.93042, 88.29794, 89.51656, 91.48...   \n",
       "\n",
       "                                 accuracies_full_std  \n",
       "0  [0.17135017, 1.2763591, 3.149945, 0.53284943, ...  "
      ]
     },
     "execution_count": 20,
     "metadata": {},
     "output_type": "execute_result"
    }
   ],
   "source": [
    "df"
   ]
  },
  {
   "cell_type": "code",
   "execution_count": 21,
   "metadata": {},
   "outputs": [
    {
     "data": {
      "text/plain": [
       "Array([95.76323 , 91.93042 , 88.29794 , 89.51656 , 91.48303 , 91.770164,\n",
       "       92.6449  , 93.55969 , 94.537926, 95.065445], dtype=float32)"
      ]
     },
     "execution_count": 21,
     "metadata": {},
     "output_type": "execute_result"
    }
   ],
   "source": [
    "df[\"accuracies_full\"][0]"
   ]
  },
  {
   "cell_type": "code",
   "execution_count": 22,
   "metadata": {},
   "outputs": [
    {
     "data": {
      "text/plain": [
       "Array([0.17135017, 1.2763591 , 3.149945  , 0.53284943, 1.0274543 ,\n",
       "       1.2751026 , 0.23735102, 0.42987263, 0.52653974, 0.14863707],      dtype=float32)"
      ]
     },
     "execution_count": 22,
     "metadata": {},
     "output_type": "execute_result"
    }
   ],
   "source": [
    "df[\"accuracies_full_std\"][0]"
   ]
  },
  {
   "cell_type": "code",
   "execution_count": null,
   "metadata": {},
   "outputs": [
    {
     "name": "stdout",
     "output_type": "stream",
     "text": [
      "---- accuracies ----\n",
      "[[84.53     86.67     82.340004 82.270004 86.4      86.17     87.1\n",
      "  88.25     89.11     90.19    ]\n",
      " [74.04     80.02     81.54     86.21     85.369995 86.15     86.96\n",
      "  88.57     89.16     90.55    ]\n",
      " [82.380005 86.909996 84.34     87.31     86.409996 86.4      84.939995\n",
      "  87.58     88.340004 90.07    ]]\n",
      "---- accuracies mean per task per seed ----\n",
      "[80.31667  84.53334  82.740005 85.263336 86.06     86.240005 86.333336\n",
      " 88.13335  88.87001  90.270004]\n",
      "---- accuracies std per task per seed ----\n",
      "[4.5242333  3.1929123  1.1775657  2.1637182  0.48792246 0.11343202\n",
      " 0.9868937  0.41249824 0.37532127 0.20396195]\n",
      "---- accuracies mean over tasks over seeds ----\n",
      "85.87601\n",
      "---- accuracies std over tasks over seeds ----\n",
      "0.72368556\n"
     ]
    }
   ],
   "source": [
    "# Code run on presynaptic consolidation\n",
    "\n",
    "seeds = [{\n",
    "    \"task1\": 0.845300018787384,\n",
    "    \"task2\": 0.8666999936103821,\n",
    "    \"task3\": 0.8234000205993652,\n",
    "    \"task4\": 0.822700023651123,\n",
    "    \"task5\": 0.8640000224113464,\n",
    "    \"task6\": 0.8616999983787537,\n",
    "    \"task7\": 0.8709999918937683,\n",
    "    \"task8\": 0.8824999928474426,\n",
    "    \"task9\": 0.8910999894142151,\n",
    "    \"task10\": 0.9018999934196472,}, \n",
    "         {\n",
    "    \"task1\": 0.7404000163078308,\n",
    "    \"task10\": 0.9054999947547913,\n",
    "    \"task2\": 0.8001999855041504,\n",
    "    \"task3\": 0.8154000043869019,\n",
    "    \"task4\": 0.8621000051498413,\n",
    "    \"task5\": 0.8536999821662903,\n",
    "    \"task6\": 0.8615000247955322,\n",
    "    \"task7\": 0.8695999979972839,\n",
    "    \"task8\": 0.885699987411499,\n",
    "    \"task9\": 0.8916000127792358\n",
    "},{\n",
    "    \"task1\": 0.8238000273704529,\n",
    "    \"task10\": 0.9006999731063843,\n",
    "    \"task2\": 0.8690999746322632,\n",
    "    \"task3\": 0.8434000015258789,\n",
    "    \"task4\": 0.8730999827384949,\n",
    "    \"task5\": 0.8640999794006348,\n",
    "    \"task6\": 0.8640000224113464,\n",
    "    \"task7\": 0.849399983882904,\n",
    "    \"task8\": 0.8758000135421753,\n",
    "    \"task9\": 0.883400022983551\n",
    "}]\n",
    "\n",
    "# turn all accuracies into an array of accuracy sorted by task based on [3:] turned into int\n",
    "accuracies =  [jnp.array([v for k, v in sorted(seed.items(), key=lambda item: int(item[0][4:]))]) for seed in seeds]\n",
    "accuracies = jnp.array(accuracies) * 100    \n",
    "print(\"---- accuracies ----\")\n",
    "print(accuracies)\n",
    "print(\"---- accuracies mean per task per seed ----\")\n",
    "print(accuracies.mean(0))\n",
    "print(\"---- accuracies std per task per seed ----\")\n",
    "print(accuracies.std(0))\n",
    "print(\"---- accuracies mean over tasks over seeds ----\")\n",
    "print(accuracies.mean(-1).mean())\n",
    "print(\"---- accuracies std over tasks over seeds ----\")\n",
    "print(accuracies.mean(-1).std())"
   ]
  }
 ],
 "metadata": {
  "kernelspec": {
   "display_name": "binarized",
   "language": "python",
   "name": "python3"
  },
  "language_info": {
   "codemirror_mode": {
    "name": "ipython",
    "version": 3
   },
   "file_extension": ".py",
   "mimetype": "text/x-python",
   "name": "python",
   "nbconvert_exporter": "python",
   "pygments_lexer": "ipython3",
   "version": "3.9.18"
  }
 },
 "nbformat": 4,
 "nbformat_minor": 2
}
