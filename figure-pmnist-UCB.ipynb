{
 "cells": [
  {
   "cell_type": "code",
   "execution_count": 1,
   "metadata": {},
   "outputs": [],
   "source": [
    "#!/usr/bin/env python3\n",
    "# -*- coding: utf-8 -*-\n",
    "# SPDX-License-Identifier: CC-BY-4.0\n",
    "#\n",
    "# Code for \"Bayesian continual learning and forgetting in neural networks\"\n",
    "# Djohan Bonnet, Kellian Cottart, Tifenn Hirtzlin, Tarcisius Januel, Thomas Dalgaty, Elisa Vianello, Damien Querlioz\n",
    "# arXiv: 2504.13569\n",
    "# Portions of the code are adapted from the Pytorch project (BSD-3-Clause)\n",
    "#\n",
    "# Author: Kellian Cottart <kellian.cottart@gmail.com>\n",
    "# Date: 2025-07-03"
   ]
  },
  {
   "cell_type": "code",
   "execution_count": 2,
   "metadata": {},
   "outputs": [],
   "source": [
    "\n",
    "import matplotlib.pyplot as plt\n",
    "import jax\n",
    "import jax.numpy as jnp\n",
    "import os\n",
    "import seaborn as sns\n",
    "import re\n",
    "import json\n",
    "import pandas as pd\n",
    "AXESSIZE = 28\n",
    "FONTSIZE = 26\n",
    "TICKSIZE = 24   \n",
    "LEGENDSIZE = 26\n",
    "plt.rcParams['svg.fonttype'] = 'none'\n",
    "os.environ[\"XLA_PYTHON_CLIENT_MEM_FRACTION\"] = \"0.8\"\n",
    "FOLDER = \"output-figures\"\n",
    "os.makedirs(FOLDER, exist_ok=True)\n",
    "results_folder = \"RESULTS-UCB\"\n",
    "df = pd.DataFrame()\n",
    "# iterate through all root folders in the results folder\n",
    "for folder in os.listdir(results_folder):\n",
    "    current_path = os.path.join(results_folder, folder)\n",
    "    # extract the name from the first config\n",
    "    config_path = os.path.join(current_path, \"config0/config.json\")\n",
    "    with open(config_path, \"r\") as f:\n",
    "        config = json.load(f)\n",
    "    # n_iterations is the number of config folders\n",
    "    n_iterations = len([f for f in os.listdir(current_path) if f.startswith(\"config\") and os.path.isdir(os.path.join(current_path, f))])\n",
    "    \n",
    "    # Add the row of parameters to the dataframe   \n",
    "    row = {\n",
    "        \"path\": current_path,\n",
    "        \"opt\": config[\"optimizer\"],\n",
    "        \"layers\": int(config[\"network_params\"][\"layers\"][:-1][1:][0]),\n",
    "        \"n_tasks\": config[\"n_tasks\"],\n",
    "        \"n_epochs\": config[\"epochs\"],\n",
    "        \"n_train_samples\": config[\"n_train_samples\"],\n",
    "        \"n_test_samples\": config[\"n_test_samples\"],\n",
    "        \"N\": int(config[\"optimizer_params\"][\"N\"]),\n",
    "        \"n_iterations\": n_iterations,\n",
    "    }\n",
    "    df = pd.concat([df, pd.DataFrame([row])], ignore_index=True)\n",
    "# One color for each path\n",
    "colors = sns.color_palette(\"viridis\", len(df[\"path\"].unique()))\n",
    "markers = [\"D\", \"o\", \"s\", \"h\", \"^\", \"x\", \"v\", \"p\", \"*\", \"X\", \"D\", \"o\", \"s\", \"h\", \"^\", \"x\", \"v\", \"p\", \"*\", \"X\"]"
   ]
  },
  {
   "cell_type": "code",
   "execution_count": 3,
   "metadata": {},
   "outputs": [
    {
     "data": {
      "text/html": [
       "<div>\n",
       "<style scoped>\n",
       "    .dataframe tbody tr th:only-of-type {\n",
       "        vertical-align: middle;\n",
       "    }\n",
       "\n",
       "    .dataframe tbody tr th {\n",
       "        vertical-align: top;\n",
       "    }\n",
       "\n",
       "    .dataframe thead th {\n",
       "        text-align: right;\n",
       "    }\n",
       "</style>\n",
       "<table border=\"1\" class=\"dataframe\">\n",
       "  <thead>\n",
       "    <tr style=\"text-align: right;\">\n",
       "      <th></th>\n",
       "      <th>path</th>\n",
       "      <th>opt</th>\n",
       "      <th>layers</th>\n",
       "      <th>n_tasks</th>\n",
       "      <th>n_epochs</th>\n",
       "      <th>n_train_samples</th>\n",
       "      <th>n_test_samples</th>\n",
       "      <th>N</th>\n",
       "      <th>n_iterations</th>\n",
       "    </tr>\n",
       "  </thead>\n",
       "  <tbody>\n",
       "    <tr>\n",
       "      <th>0</th>\n",
       "      <td>RESULTS-UCB/20250807-114729-permutedmnist-t=10...</td>\n",
       "      <td>mesu</td>\n",
       "      <td>128</td>\n",
       "      <td>10</td>\n",
       "      <td>200</td>\n",
       "      <td>10</td>\n",
       "      <td>10</td>\n",
       "      <td>2800000</td>\n",
       "      <td>10</td>\n",
       "    </tr>\n",
       "  </tbody>\n",
       "</table>\n",
       "</div>"
      ],
      "text/plain": [
       "                                                path   opt  layers  n_tasks  \\\n",
       "0  RESULTS-UCB/20250807-114729-permutedmnist-t=10...  mesu     128       10   \n",
       "\n",
       "   n_epochs  n_train_samples  n_test_samples        N  n_iterations  \n",
       "0       200               10              10  2800000            10  "
      ]
     },
     "execution_count": 3,
     "metadata": {},
     "output_type": "execute_result"
    }
   ],
   "source": [
    "df"
   ]
  },
  {
   "cell_type": "markdown",
   "metadata": {},
   "source": []
  },
  {
   "cell_type": "code",
   "execution_count": 4,
   "metadata": {},
   "outputs": [],
   "source": [
    "data = []\n",
    "for idx, row in df.iterrows():\n",
    "    path = row[\"path\"]\n",
    "    n_tasks = row[\"n_tasks\"]\n",
    "    n_epochs = row[\"n_epochs\"]\n",
    "    n_iterations = row[\"n_iterations\"]\n",
    "    full_accuracies = []\n",
    "    full_epistemic_auc = []\n",
    "    full_aleatoric_auc = []\n",
    "    for it in range(n_iterations):\n",
    "        current_it_path = os.path.join(path, f\"config{it}\")\n",
    "        accuracy_path = os.path.join(current_it_path, \"accuracy\")\n",
    "        uncertainty_path = os.path.join(current_it_path, \"uncertainty\")\n",
    "        accuracies = []\n",
    "        epistemic_auc = []\n",
    "        aleatoric_auc = []\n",
    "        for task in range(n_tasks):\n",
    "            for epoch in range(n_epochs):\n",
    "                suffix = f\"task={task}-epoch={epoch}.npy\"\n",
    "                accuracies.append(jnp.load(os.path.join(accuracy_path, suffix)))\n",
    "        full_accuracies.append(jnp.array(accuracies)*100) \n",
    "        full_epistemic_auc.append(jnp.array(epistemic_auc))\n",
    "        full_aleatoric_auc.append(jnp.array(aleatoric_auc))\n",
    "    full_accuracies = jnp.array(full_accuracies)\n",
    "    accuracy_array = jnp.mean(full_accuracies, -1)[:, -1]\n",
    "    accuracy_mean = accuracy_array.mean()\n",
    "    accuracy_std = accuracy_array.std()\n",
    "    last_accuracies_full = full_accuracies[:, -1, :].mean(axis=0)\n",
    "    last_accuracies_std = full_accuracies[:, -1, :].std(axis=0)\n",
    "    data.append((accuracy_mean, accuracy_std, last_accuracies_full, last_accuracies_std))\n",
    "# Add new columns to df\n",
    "df[\"last_accuracies\"] = [d[0] for d in data]\n",
    "df[\"last_accuracies_std\"] = [d[1] for d in data]\n",
    "df[\"last_accuracies_full\"] = [d[2] for d in data]\n",
    "df[\"last_accuracies_full_std\"] = [d[3] for d in data]\n"
   ]
  },
  {
   "cell_type": "code",
   "execution_count": 5,
   "metadata": {},
   "outputs": [
    {
     "data": {
      "text/html": [
       "<div>\n",
       "<style scoped>\n",
       "    .dataframe tbody tr th:only-of-type {\n",
       "        vertical-align: middle;\n",
       "    }\n",
       "\n",
       "    .dataframe tbody tr th {\n",
       "        vertical-align: top;\n",
       "    }\n",
       "\n",
       "    .dataframe thead th {\n",
       "        text-align: right;\n",
       "    }\n",
       "</style>\n",
       "<table border=\"1\" class=\"dataframe\">\n",
       "  <thead>\n",
       "    <tr style=\"text-align: right;\">\n",
       "      <th></th>\n",
       "      <th>path</th>\n",
       "      <th>opt</th>\n",
       "      <th>layers</th>\n",
       "      <th>n_tasks</th>\n",
       "      <th>n_epochs</th>\n",
       "      <th>n_train_samples</th>\n",
       "      <th>n_test_samples</th>\n",
       "      <th>N</th>\n",
       "      <th>n_iterations</th>\n",
       "      <th>last_accuracies</th>\n",
       "      <th>last_accuracies_std</th>\n",
       "      <th>last_accuracies_full</th>\n",
       "      <th>last_accuracies_full_std</th>\n",
       "    </tr>\n",
       "  </thead>\n",
       "  <tbody>\n",
       "    <tr>\n",
       "      <th>0</th>\n",
       "      <td>RESULTS-UCB/20250807-114729-permutedmnist-t=10...</td>\n",
       "      <td>mesu</td>\n",
       "      <td>128</td>\n",
       "      <td>10</td>\n",
       "      <td>200</td>\n",
       "      <td>10</td>\n",
       "      <td>10</td>\n",
       "      <td>2800000</td>\n",
       "      <td>10</td>\n",
       "      <td>91.884796</td>\n",
       "      <td>0.34890175</td>\n",
       "      <td>[91.345, 90.794, 90.042, 89.556, 90.91599, 92....</td>\n",
       "      <td>[1.6805769, 1.726295, 2.4236941, 2.0903654, 1....</td>\n",
       "    </tr>\n",
       "  </tbody>\n",
       "</table>\n",
       "</div>"
      ],
      "text/plain": [
       "                                                path   opt  layers  n_tasks  \\\n",
       "0  RESULTS-UCB/20250807-114729-permutedmnist-t=10...  mesu     128       10   \n",
       "\n",
       "   n_epochs  n_train_samples  n_test_samples        N  n_iterations  \\\n",
       "0       200               10              10  2800000            10   \n",
       "\n",
       "  last_accuracies last_accuracies_std  \\\n",
       "0       91.884796          0.34890175   \n",
       "\n",
       "                                last_accuracies_full  \\\n",
       "0  [91.345, 90.794, 90.042, 89.556, 90.91599, 92....   \n",
       "\n",
       "                            last_accuracies_full_std  \n",
       "0  [1.6805769, 1.726295, 2.4236941, 2.0903654, 1....  "
      ]
     },
     "execution_count": 5,
     "metadata": {},
     "output_type": "execute_result"
    }
   ],
   "source": [
    "df"
   ]
  },
  {
   "cell_type": "code",
   "execution_count": 6,
   "metadata": {},
   "outputs": [
    {
     "data": {
      "text/plain": [
       "Array([91.345  , 90.794  , 90.042  , 89.556  , 90.91599, 92.212  ,\n",
       "       92.752  , 93.332  , 93.738  , 94.161  ], dtype=float32)"
      ]
     },
     "execution_count": 6,
     "metadata": {},
     "output_type": "execute_result"
    }
   ],
   "source": [
    "df[\"last_accuracies_full\"][0]"
   ]
  },
  {
   "cell_type": "code",
   "execution_count": 11,
   "metadata": {},
   "outputs": [
    {
     "data": {
      "text/plain": [
       "Array([1.6805769 , 1.726295  , 2.4236941 , 2.0903654 , 1.7266124 ,\n",
       "       0.5532241 , 0.42978603, 0.4242375 , 0.24428318, 0.22554205],      dtype=float32)"
      ]
     },
     "execution_count": 11,
     "metadata": {},
     "output_type": "execute_result"
    }
   ],
   "source": [
    "df[\"last_accuracies_full_std\"][0]"
   ]
  },
  {
   "cell_type": "code",
   "execution_count": 8,
   "metadata": {},
   "outputs": [
    {
     "name": "stderr",
     "output_type": "stream",
     "text": [
      "No artists with labels found to put in legend.  Note that artists whose label start with an underscore are ignored when legend() is called with no argument.\n"
     ]
    },
    {
     "data": {
      "image/png": "[encoded data removed]",
      "text/plain": [
       "<Figure size 900x700 with 1 Axes>"
      ]
     },
     "metadata": {},
     "output_type": "display_data"
    }
   ],
   "source": [
    "hidden_units = 128\n",
    "current_df = df[df[\"layers\"] == hidden_units]\n",
    "fig, ax = plt.subplots(figsize=(9, 7))\n",
    "colors = sns.color_palette(\"viridis\", len(df[df[\"layers\"] == hidden_units]))\n",
    "N_name = re.sub(r'(\\d)(?=(\\d{3})+(?!\\d))', r'\\1,', str(current_df[\"N\"].values[0]))\n",
    "name = current_df[\"opt\"].str.upper() + \" N=\" + N_name\n",
    "plt.bar(\n",
    "    name,\n",
    "    current_df[\"last_accuracies\"],\n",
    "    yerr=current_df[\"last_accuracies_std\"],\n",
    "    color=colors,\n",
    "    capsize=5,\n",
    ")\n",
    "# Text on each bar to indicate percentage\n",
    "for i, (n, acc, std) in enumerate(zip(current_df[\"N\"], current_df[\"last_accuracies\"], current_df[\"last_accuracies_std\"])):\n",
    "    ax.text(i, acc + 1, f\"{acc:.1f}%\", ha='center', va='bottom', fontsize=FONTSIZE)\n",
    "    \n",
    "# add bar 91.44\n",
    "ax.bar(\n",
    "    \"UCB\",\n",
    "    91.44,\n",
    "    color=\"green\",\n",
    ")\n",
    "ax.text(len(current_df[\"N\"]), 91.44 + 1, \"91.44%\", ha='center', va='bottom', fontsize=FONTSIZE)\n",
    "ax.set_ylabel(\"Test accuracy, last 10 tasks (%)\", fontsize=FONTSIZE)\n",
    "ax.set_ylim(50, 100)\n",
    "\n",
    "ax.tick_params(axis='both', which='major', labelsize=TICKSIZE)\n",
    "ax.legend(fontsize=LEGENDSIZE, frameon=False)\n",
    "plt.tight_layout()\n",
    "plt.savefig(os.path.join(FOLDER, f\"accuracy-layers-{hidden_units}.svg\"))\n",
    "plt.savefig(os.path.join(FOLDER, f\"accuracy-layers-{hidden_units}.pdf\"))"
   ]
  },
  {
   "cell_type": "code",
   "execution_count": 11,
   "metadata": {},
   "outputs": [
    {
     "name": "stdout",
     "output_type": "stream",
     "text": [
      "t-statistic: 3.8916\n",
      "Degrees of freedom: 9.7178\n",
      "Two-tailed p-value: 0.0032\n",
      "One-tailed p-value: 0.0016\n"
     ]
    }
   ],
   "source": [
    "# lets compute the p value for both two tails and one tail welch t test\n",
    "from scipy.stats import t\n",
    "x1 = 91.88\n",
    "s1 = 0.35\n",
    "n1 = 10 \n",
    "x2 = 91.44\n",
    "s2 = 0.04\n",
    "n2 = 3\n",
    "freedom = (s1**2/n1 + s2**2/n2)**2 / ((s1**2/n1)**2/(n1-1) + (s2**2/n2)**2/(n2-1))\n",
    "statistic = (x1 - x2) / ( (s1**2/n1 + s2**2/n2)**0.5 )\n",
    "print(f\"t-statistic: {statistic:.4f}\")\n",
    "print(f\"Degrees of freedom: {freedom:.4f}\")\n",
    "p_value_two_tails = 2 * (1 - t.cdf(statistic, freedom))\n",
    "p_value_one_tail = 1 - t.cdf(statistic, freedom)\n",
    "print(f\"Two-tailed p-value: {p_value_two_tails:.4f}\")\n",
    "print(f\"One-tailed p-value: {p_value_one_tail:.4f}\")"
   ]
  }
 ],
 "metadata": {
  "kernelspec": {
   "display_name": "binarized",
   "language": "python",
   "name": "python3"
  },
  "language_info": {
   "codemirror_mode": {
    "name": "ipython",
    "version": 3
   },
   "file_extension": ".py",
   "mimetype": "text/x-python",
   "name": "python",
   "nbconvert_exporter": "python",
   "pygments_lexer": "ipython3",
   "version": "3.9.18"
  }
 },
 "nbformat": 4,
 "nbformat_minor": 2
}
